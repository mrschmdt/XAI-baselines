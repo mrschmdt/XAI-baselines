{
 "cells": [
  {
   "cell_type": "code",
   "execution_count": 1,
   "metadata": {},
   "outputs": [],
   "source": [
    "%load_ext autoreload\n",
    "%autoreload 2"
   ]
  },
  {
   "cell_type": "code",
   "execution_count": 8,
   "metadata": {},
   "outputs": [
    {
     "name": "stderr",
     "output_type": "stream",
     "text": [
      "100%|██████████| 10/10 [00:09<00:00,  1.08it/s]\n"
     ]
    },
    {
     "name": "stdout",
     "output_type": "stream",
     "text": [
      "Final metrics: \n",
      "Validation-Loss:  0.654\n",
      "Validation-Accuracy:  66.3%\n",
      "train-Loss:  0.553\n",
      "train-Accuracy:  68.6%\n",
      "# Parameters: 1666\n",
      "NeuralNetwork(\n",
      "  (model): Sequential(\n",
      "    (0): Linear(in_features=23, out_features=64, bias=True)\n",
      "    (1): ReLU()\n",
      "    (2): Linear(in_features=64, out_features=2, bias=True)\n",
      "  )\n",
      ")\n"
     ]
    }
   ],
   "source": [
    "from baselines import ZeroUniformOutputBaseline\n",
    "\n",
    "from network.training_heloc import train_model\n",
    "\n",
    "model = train_model(\n",
    "    layers=[23,64,2],\n",
    "    num_epochs=10,\n",
    "    lr = 0.001,\n",
    "    batch_size=16,\n",
    ")[0]\n",
    "\n"
   ]
  },
  {
   "cell_type": "code",
   "execution_count": 11,
   "metadata": {},
   "outputs": [
    {
     "name": "stderr",
     "output_type": "stream",
     "text": [
      "/home/leon/programming/XAI-baselines/network/models.py:65: UserWarning: Implicit dimension choice for softmax has been deprecated. Change the call to include dim=X as an argument.\n",
      "  return nn.functional.softmax(y).detach()\n",
      "/home/leon/programming/XAI-baselines/network/models.py:68: UserWarning: Implicit dimension choice for softmax has been deprecated. Change the call to include dim=X as an argument.\n",
      "  return nn.functional.softmax(y)\n"
     ]
    },
    {
     "name": "stdout",
     "output_type": "stream",
     "text": [
      "Prediction of zero baseline: [[0.5250058 0.4749942]])\n",
      "Number of inputs: 23\n",
      "autobaseline: tensor([ 0.0075,  0.0058,  0.0061,  0.0061,  0.0096,  0.0079,  0.0076,  0.0085,\n",
      "         0.0089,  0.0079,  0.0051,  0.0073,  0.0067,  0.0089,  0.0078,  0.0061,\n",
      "        -0.0441,  0.0084,  0.0074,  0.0086,  0.0086,  0.0053,  0.0067],\n",
      "       grad_fn=<SqueezeBackward3>)\n",
      "prediction: tensor([0.5006, 0.4994])\n"
     ]
    }
   ],
   "source": [
    "import torch\n",
    "print(f\"Prediction of zero baseline: {model.predict(torch.zeros(1, 23)).detach().numpy()})\")\n",
    "\n",
    "baseline_generator = ZeroUniformOutputBaseline(model)\n",
    "print(f\"Number of inputs: {baseline_generator.num_inputs}\")\n",
    "zero_uniform_output_baseline = baseline_generator.get_baseline()"
   ]
  },
  {
   "cell_type": "code",
   "execution_count": 19,
   "metadata": {},
   "outputs": [
    {
     "data": {
      "text/plain": [
       "(tensor([0.8911, 0.2925, 0.1070, 0.3052, 0.4943, 0.3600, 0.3600, 1.0000, 0.0222,\n",
       "         0.8889, 1.0000, 0.4037, 0.3571, 0.5046, 0.2727, 0.5152, 0.5152, 0.0798,\n",
       "         0.5432, 0.3667, 0.5217, 0.4286, 0.4679]),\n",
       " tensor([0., 1.]))"
      ]
     },
     "execution_count": 19,
     "metadata": {},
     "output_type": "execute_result"
    }
   ],
   "source": [
    "from data import HELOC\n",
    "\n",
    "dataset = HELOC(\"validation\")\n",
    "dataset[0]"
   ]
  }
 ],
 "metadata": {
  "kernelspec": {
   "display_name": ".venv",
   "language": "python",
   "name": "python3"
  },
  "language_info": {
   "codemirror_mode": {
    "name": "ipython",
    "version": 3
   },
   "file_extension": ".py",
   "mimetype": "text/x-python",
   "name": "python",
   "nbconvert_exporter": "python",
   "pygments_lexer": "ipython3",
   "version": "3.10.12"
  }
 },
 "nbformat": 4,
 "nbformat_minor": 2
}
